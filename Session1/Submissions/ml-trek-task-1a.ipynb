{
 "cells": [
  {
   "cell_type": "markdown",
   "id": "97c1a654",
   "metadata": {
    "papermill": {
     "duration": 0.007993,
     "end_time": "2024-10-27T09:30:10.472079",
     "exception": false,
     "start_time": "2024-10-27T09:30:10.464086",
     "status": "completed"
    },
    "tags": []
   },
   "source": [
    "# 🧑‍🏫 Task 1 Part 1: Building a Spam Classifier with Naive Bayes\n",
    "In this exercise, you'll implement a spam classifier using the **Naive Bayes algorithm** . You'll work with email data to classify messages as spam or non-spam (ham). Follow the steps below and fill in the code where indicated.\n",
    "\n",
    "**Objective:** Implement all key components of an ML pipeline (except for data handling).\n",
    "\n",
    "**Allowed Libraries:** `pandas`, `numpy`\n",
    "\n",
    "**Not Allowed:** Any pre-built ML algorithms or functions like those from `sklearn`.\n",
    "\n",
    "Follow the instructions step-by-step and answer the questions!"
   ]
  },
  {
   "cell_type": "code",
   "execution_count": 1,
   "id": "26922e40",
   "metadata": {
    "execution": {
     "iopub.execute_input": "2024-10-27T09:30:10.487855Z",
     "iopub.status.busy": "2024-10-27T09:30:10.487331Z",
     "iopub.status.idle": "2024-10-27T09:30:11.610999Z",
     "shell.execute_reply": "2024-10-27T09:30:11.609615Z"
    },
    "papermill": {
     "duration": 1.134246,
     "end_time": "2024-10-27T09:30:11.613700",
     "exception": false,
     "start_time": "2024-10-27T09:30:10.479454",
     "status": "completed"
    },
    "tags": []
   },
   "outputs": [
    {
     "name": "stdout",
     "output_type": "stream",
     "text": [
      "/kaggle/input/ml-trek-1a/emails.csv\n"
     ]
    }
   ],
   "source": [
    "import numpy as np # linear algebra\n",
    "import pandas as pd # data processing, CSV file I/O (e.g. pd.read_csv)\n",
    "\n",
    "# Input data files are available in the read-only \"../input/\" directory\n",
    "# For example, running this (by clicking run or pressing Shift+Enter) will list all files under the input directory\n",
    "\n",
    "import os\n",
    "for dirname, _, filenames in os.walk('/kaggle/input'):\n",
    "    for filename in filenames:\n",
    "        print(os.path.join(dirname, filename))\n",
    "\n",
    "# You can write up to 20GB to the current directory (/kaggle/working/) that gets preserved as output when you create a version using \"Save & Run All\" \n",
    "# You can also write temporary files to /kaggle/temp/, but they won't be saved outside of the current session"
   ]
  },
  {
   "cell_type": "markdown",
   "id": "a6282cc1",
   "metadata": {
    "papermill": {
     "duration": 0.006424,
     "end_time": "2024-10-27T09:30:11.626964",
     "exception": false,
     "start_time": "2024-10-27T09:30:11.620540",
     "status": "completed"
    },
    "tags": []
   },
   "source": [
    "## Step 1: Data Loading and Preprocessing\n",
    "First, let's load and examine our data."
   ]
  },
  {
   "cell_type": "code",
   "execution_count": 2,
   "id": "3867fc7b",
   "metadata": {
    "execution": {
     "iopub.execute_input": "2024-10-27T09:30:11.642315Z",
     "iopub.status.busy": "2024-10-27T09:30:11.641773Z",
     "iopub.status.idle": "2024-10-27T09:30:11.874929Z",
     "shell.execute_reply": "2024-10-27T09:30:11.873716Z"
    },
    "papermill": {
     "duration": 0.24373,
     "end_time": "2024-10-27T09:30:11.877475",
     "exception": false,
     "start_time": "2024-10-27T09:30:11.633745",
     "status": "completed"
    },
    "tags": []
   },
   "outputs": [],
   "source": [
    "# Load the data\n",
    "# TODO: Load the 'emails.csv' file into a DataFrame called 'emails'\n",
    "emails = pd.read_csv(\"/kaggle/input/ml-trek-1a/emails.csv\")"
   ]
  },
  {
   "cell_type": "code",
   "execution_count": 3,
   "id": "08ebb2ef",
   "metadata": {
    "execution": {
     "iopub.execute_input": "2024-10-27T09:30:11.892647Z",
     "iopub.status.busy": "2024-10-27T09:30:11.892228Z",
     "iopub.status.idle": "2024-10-27T09:30:11.906229Z",
     "shell.execute_reply": "2024-10-27T09:30:11.904585Z"
    },
    "papermill": {
     "duration": 0.02459,
     "end_time": "2024-10-27T09:30:11.908984",
     "exception": false,
     "start_time": "2024-10-27T09:30:11.884394",
     "status": "completed"
    },
    "tags": []
   },
   "outputs": [
    {
     "name": "stdout",
     "output_type": "stream",
     "text": [
      "                                                text  spam\n",
      "0  Subject: naturally irresistible your corporate...     1\n",
      "1  Subject: the stock trading gunslinger  fanny i...     1\n",
      "2  Subject: unbelievable new homes made easy  im ...     1\n",
      "3  Subject: 4 color printing special  request add...     1\n",
      "4  Subject: do not have money , get software cds ...     1\n"
     ]
    }
   ],
   "source": [
    "# Display the first few rows\n",
    "print(emails.head())\n",
    "\n",
    "# HINT: Use pd.read_csv() to load the data\n",
    "# HINT: The DataFrame should have 'text' and 'spam' columns"
   ]
  },
  {
   "cell_type": "code",
   "execution_count": 4,
   "id": "e173adda",
   "metadata": {
    "execution": {
     "iopub.execute_input": "2024-10-27T09:30:11.925597Z",
     "iopub.status.busy": "2024-10-27T09:30:11.924714Z",
     "iopub.status.idle": "2024-10-27T09:30:11.957874Z",
     "shell.execute_reply": "2024-10-27T09:30:11.956592Z"
    },
    "papermill": {
     "duration": 0.043592,
     "end_time": "2024-10-27T09:30:11.960373",
     "exception": false,
     "start_time": "2024-10-27T09:30:11.916781",
     "status": "completed"
    },
    "tags": []
   },
   "outputs": [
    {
     "name": "stdout",
     "output_type": "stream",
     "text": [
      "<class 'pandas.core.frame.DataFrame'>\n",
      "RangeIndex: 5728 entries, 0 to 5727\n",
      "Data columns (total 2 columns):\n",
      " #   Column  Non-Null Count  Dtype \n",
      "---  ------  --------------  ----- \n",
      " 0   text    5728 non-null   object\n",
      " 1   spam    5728 non-null   int64 \n",
      "dtypes: int64(1), object(1)\n",
      "memory usage: 89.6+ KB\n"
     ]
    }
   ],
   "source": [
    "emails.info()"
   ]
  },
  {
   "cell_type": "code",
   "execution_count": 5,
   "id": "e10e2131",
   "metadata": {
    "execution": {
     "iopub.execute_input": "2024-10-27T09:30:11.975780Z",
     "iopub.status.busy": "2024-10-27T09:30:11.975366Z",
     "iopub.status.idle": "2024-10-27T09:30:11.980486Z",
     "shell.execute_reply": "2024-10-27T09:30:11.979302Z"
    },
    "papermill": {
     "duration": 0.015525,
     "end_time": "2024-10-27T09:30:11.982822",
     "exception": false,
     "start_time": "2024-10-27T09:30:11.967297",
     "status": "completed"
    },
    "tags": []
   },
   "outputs": [],
   "source": [
    "#Analyse the data and remove or modify rows with missing or invalid values"
   ]
  },
  {
   "cell_type": "markdown",
   "id": "51e98442",
   "metadata": {
    "papermill": {
     "duration": 0.006496,
     "end_time": "2024-10-27T09:30:11.996736",
     "exception": false,
     "start_time": "2024-10-27T09:30:11.990240",
     "status": "completed"
    },
    "tags": []
   },
   "source": [
    "## Step 2: Text Preprocessing\n",
    "We need to process each email to extract unique words."
   ]
  },
  {
   "cell_type": "code",
   "execution_count": 6,
   "id": "562025d2",
   "metadata": {
    "execution": {
     "iopub.execute_input": "2024-10-27T09:30:12.012094Z",
     "iopub.status.busy": "2024-10-27T09:30:12.011493Z",
     "iopub.status.idle": "2024-10-27T09:30:12.017976Z",
     "shell.execute_reply": "2024-10-27T09:30:12.017020Z"
    },
    "papermill": {
     "duration": 0.016741,
     "end_time": "2024-10-27T09:30:12.020209",
     "exception": false,
     "start_time": "2024-10-27T09:30:12.003468",
     "status": "completed"
    },
    "tags": []
   },
   "outputs": [],
   "source": [
    "def process_email(text):\n",
    "    \"\"\"\n",
    "    Convert email text to a list of unique, lowercase words.\n",
    "    \n",
    "    Parameters:\n",
    "        text (str): The email text.\n",
    "    \n",
    "    Returns:\n",
    "        list: List of unique words in the email.\n",
    "    \"\"\"\n",
    "   \n",
    "    text = text.lower()\n",
    "    words = text.split()    \n",
    "    unique_words = list(set(words))\n",
    "    \n",
    "    return unique_words\n",
    "\n",
    "\n"
   ]
  },
  {
   "cell_type": "code",
   "execution_count": 7,
   "id": "12e3d0a7",
   "metadata": {
    "execution": {
     "iopub.execute_input": "2024-10-27T09:30:12.035466Z",
     "iopub.status.busy": "2024-10-27T09:30:12.034985Z",
     "iopub.status.idle": "2024-10-27T09:30:12.371411Z",
     "shell.execute_reply": "2024-10-27T09:30:12.370218Z"
    },
    "papermill": {
     "duration": 0.346942,
     "end_time": "2024-10-27T09:30:12.373886",
     "exception": false,
     "start_time": "2024-10-27T09:30:12.026944",
     "status": "completed"
    },
    "tags": []
   },
   "outputs": [
    {
     "data": {
      "text/html": [
       "<div>\n",
       "<style scoped>\n",
       "    .dataframe tbody tr th:only-of-type {\n",
       "        vertical-align: middle;\n",
       "    }\n",
       "\n",
       "    .dataframe tbody tr th {\n",
       "        vertical-align: top;\n",
       "    }\n",
       "\n",
       "    .dataframe thead th {\n",
       "        text-align: right;\n",
       "    }\n",
       "</style>\n",
       "<table border=\"1\" class=\"dataframe\">\n",
       "  <thead>\n",
       "    <tr style=\"text-align: right;\">\n",
       "      <th></th>\n",
       "      <th>text</th>\n",
       "      <th>spam</th>\n",
       "    </tr>\n",
       "  </thead>\n",
       "  <tbody>\n",
       "    <tr>\n",
       "      <th>0</th>\n",
       "      <td>[be, identity, much, ordered, amount, within, ...</td>\n",
       "      <td>1</td>\n",
       "    </tr>\n",
       "    <tr>\n",
       "      <th>1</th>\n",
       "      <td>[bedtime, clothesman, hall, yes, nameable, pal...</td>\n",
       "      <td>1</td>\n",
       "    </tr>\n",
       "    <tr>\n",
       "      <th>2</th>\n",
       "      <td>[approved, unconditionally, ask, opportunity, ...</td>\n",
       "      <td>1</td>\n",
       "    </tr>\n",
       "    <tr>\n",
       "      <th>3</th>\n",
       "      <td>[/, fax, golden, printing, &amp;, azusa, version, ...</td>\n",
       "      <td>1</td>\n",
       "    </tr>\n",
       "    <tr>\n",
       "      <th>4</th>\n",
       "      <td>[be, ended, ?, along, me, tradgedies, yet, ', ...</td>\n",
       "      <td>1</td>\n",
       "    </tr>\n",
       "  </tbody>\n",
       "</table>\n",
       "</div>"
      ],
      "text/plain": [
       "                                                text  spam\n",
       "0  [be, identity, much, ordered, amount, within, ...     1\n",
       "1  [bedtime, clothesman, hall, yes, nameable, pal...     1\n",
       "2  [approved, unconditionally, ask, opportunity, ...     1\n",
       "3  [/, fax, golden, printing, &, azusa, version, ...     1\n",
       "4  [be, ended, ?, along, me, tradgedies, yet, ', ...     1"
      ]
     },
     "execution_count": 7,
     "metadata": {},
     "output_type": "execute_result"
    }
   ],
   "source": [
    "emails['text'] = emails['text'].apply(process_email)\n",
    "emails.head()\n"
   ]
  },
  {
   "cell_type": "code",
   "execution_count": 8,
   "id": "970cd844",
   "metadata": {
    "execution": {
     "iopub.execute_input": "2024-10-27T09:30:12.390348Z",
     "iopub.status.busy": "2024-10-27T09:30:12.389553Z",
     "iopub.status.idle": "2024-10-27T09:30:12.394288Z",
     "shell.execute_reply": "2024-10-27T09:30:12.393128Z"
    },
    "papermill": {
     "duration": 0.015346,
     "end_time": "2024-10-27T09:30:12.396600",
     "exception": false,
     "start_time": "2024-10-27T09:30:12.381254",
     "status": "completed"
    },
    "tags": []
   },
   "outputs": [],
   "source": [
    "# Test your preprocessing by testing on the first email\n"
   ]
  },
  {
   "cell_type": "markdown",
   "id": "ff434540",
   "metadata": {
    "papermill": {
     "duration": 0.00684,
     "end_time": "2024-10-27T09:30:12.410594",
     "exception": false,
     "start_time": "2024-10-27T09:30:12.403754",
     "status": "completed"
    },
    "tags": []
   },
   "source": [
    "## Step 3: Calculate Prior Probabilities\n",
    "Let's calculate the basic probability of an email being spam."
   ]
  },
  {
   "cell_type": "code",
   "execution_count": null,
   "id": "c9d9ef1f",
   "metadata": {
    "papermill": {
     "duration": 0.00663,
     "end_time": "2024-10-27T09:30:12.424343",
     "exception": false,
     "start_time": "2024-10-27T09:30:12.417713",
     "status": "completed"
    },
    "tags": []
   },
   "outputs": [],
   "source": []
  },
  {
   "cell_type": "code",
   "execution_count": 9,
   "id": "897551d7",
   "metadata": {
    "execution": {
     "iopub.execute_input": "2024-10-27T09:30:12.440291Z",
     "iopub.status.busy": "2024-10-27T09:30:12.439851Z",
     "iopub.status.idle": "2024-10-27T09:30:12.449188Z",
     "shell.execute_reply": "2024-10-27T09:30:12.447956Z"
    },
    "papermill": {
     "duration": 0.020483,
     "end_time": "2024-10-27T09:30:12.451787",
     "exception": false,
     "start_time": "2024-10-27T09:30:12.431304",
     "status": "completed"
    },
    "tags": []
   },
   "outputs": [
    {
     "name": "stdout",
     "output_type": "stream",
     "text": [
      "Number of emails: 5728\n",
      "Number of spam emails: 1368\n",
      "Probability of spam: 0.2388\n"
     ]
    }
   ],
   "source": [
    "# TODO: Calculate the following:\n",
    "# 1. Total number of emails\n",
    "# 2. Number of spam emails\n",
    "# 3. Probability of spam\n",
    "\n",
    "num_emails = len(emails)\n",
    "num_spam = sum(emails['spam'])\n",
    "spam_probability = num_spam / num_emails\n",
    "\n",
    "print(f\"Number of emails: {num_emails}\")\n",
    "print(f\"Number of spam emails: {num_spam}\")\n",
    "print(f\"Probability of spam: {spam_probability:.4f}\")\n",
    "\n",
    "# HINT: Use len(emails) for total count\n",
    "# HINT: Use sum(emails['spam']) for spam count"
   ]
  },
  {
   "cell_type": "markdown",
   "id": "66eb2657",
   "metadata": {
    "papermill": {
     "duration": 0.00685,
     "end_time": "2024-10-27T09:30:12.466046",
     "exception": false,
     "start_time": "2024-10-27T09:30:12.459196",
     "status": "completed"
    },
    "tags": []
   },
   "source": [
    "## Step 4: Training the Model\n",
    "Now we'll build our Naive Bayes model by counting word occurrences in spam and ham emails."
   ]
  },
  {
   "cell_type": "code",
   "execution_count": 10,
   "id": "682b25bb",
   "metadata": {
    "execution": {
     "iopub.execute_input": "2024-10-27T09:30:12.482056Z",
     "iopub.status.busy": "2024-10-27T09:30:12.481608Z",
     "iopub.status.idle": "2024-10-27T09:30:12.488987Z",
     "shell.execute_reply": "2024-10-27T09:30:12.487611Z"
    },
    "papermill": {
     "duration": 0.018141,
     "end_time": "2024-10-27T09:30:12.491216",
     "exception": false,
     "start_time": "2024-10-27T09:30:12.473075",
     "status": "completed"
    },
    "tags": []
   },
   "outputs": [],
   "source": [
    "def train_naive_bayes(emails_data):\n",
    "    \"\"\"\n",
    "    Train a Naive Bayes model on email data\n",
    "    \n",
    "    Parameters:\n",
    "        emails_data (DataFrame): DataFrame with 'words' and 'spam' columns\n",
    "    \n",
    "    Returns:\n",
    "        dict: Dictionary with word frequencies in spam and ham emails\n",
    "    \"\"\"\n",
    "    # TODO: Create a dictionary to store word frequencies\n",
    "    # For each word, store counts of its occurrence in spam and ham emails\n",
    "    model = {}\n",
    "    for index, row in emails_data.iterrows():\n",
    "        label = 'spam' if row['spam'] == 1 else 'ham'\n",
    "        words = row['text']  # Reference the preprocessed words here\n",
    "        \n",
    "        for word in words:\n",
    "            if word not in model:\n",
    "                # Initialize counts for a new word with Laplace smoothing\n",
    "                model[word] = {'spam': 1, 'ham': 1}\n",
    "            model[word][label] += 1\n",
    "    \n",
    "    return model\n",
    "\n",
    "    # Your code here\n",
    "    # HINT: Initialize counts with 1 (Laplace smoothing)\n",
    "    # HINT: Structure: model[word] = {'spam': count, 'ham': count}"
   ]
  },
  {
   "cell_type": "code",
   "execution_count": 11,
   "id": "aaae52b1",
   "metadata": {
    "execution": {
     "iopub.execute_input": "2024-10-27T09:30:12.507736Z",
     "iopub.status.busy": "2024-10-27T09:30:12.507308Z",
     "iopub.status.idle": "2024-10-27T09:30:13.323223Z",
     "shell.execute_reply": "2024-10-27T09:30:13.322164Z"
    },
    "papermill": {
     "duration": 0.827391,
     "end_time": "2024-10-27T09:30:13.325808",
     "exception": false,
     "start_time": "2024-10-27T09:30:12.498417",
     "status": "completed"
    },
    "tags": []
   },
   "outputs": [],
   "source": [
    "model = train_naive_bayes(emails)"
   ]
  },
  {
   "cell_type": "code",
   "execution_count": 12,
   "id": "dc95fc25",
   "metadata": {
    "execution": {
     "iopub.execute_input": "2024-10-27T09:30:13.342258Z",
     "iopub.status.busy": "2024-10-27T09:30:13.341858Z",
     "iopub.status.idle": "2024-10-27T09:30:13.451254Z",
     "shell.execute_reply": "2024-10-27T09:30:13.449966Z"
    },
    "papermill": {
     "duration": 0.120428,
     "end_time": "2024-10-27T09:30:13.453546",
     "exception": false,
     "start_time": "2024-10-27T09:30:13.333118",
     "status": "completed"
    },
    "tags": []
   },
   "outputs": [
    {
     "data": {
      "text/plain": [
       "{'be': {'spam': 639, 'ham': 2648},\n",
       " 'identity': {'spam': 81, 'ham': 4},\n",
       " 'much': {'spam': 118, 'ham': 548},\n",
       " 'ordered': {'spam': 37, 'ham': 35},\n",
       " 'amount': {'spam': 93, 'ham': 105},\n",
       " 'within': {'spam': 174, 'ham': 314},\n",
       " 'easier': {'spam': 42, 'ham': 44},\n",
       " 'become': {'spam': 83, 'ham': 112},\n",
       " 'you': {'spam': 983, 'ham': 3477},\n",
       " 'really': {'spam': 72, 'ham': 268}}"
      ]
     },
     "execution_count": 12,
     "metadata": {},
     "output_type": "execute_result"
    }
   ],
   "source": [
    "dict(list(model.items())[:10])"
   ]
  },
  {
   "cell_type": "code",
   "execution_count": 13,
   "id": "3dce95f9",
   "metadata": {
    "execution": {
     "iopub.execute_input": "2024-10-27T09:30:13.470294Z",
     "iopub.status.busy": "2024-10-27T09:30:13.469454Z",
     "iopub.status.idle": "2024-10-27T09:30:13.475240Z",
     "shell.execute_reply": "2024-10-27T09:30:13.473870Z"
    },
    "papermill": {
     "duration": 0.016765,
     "end_time": "2024-10-27T09:30:13.477659",
     "exception": false,
     "start_time": "2024-10-27T09:30:13.460894",
     "status": "completed"
    },
    "tags": []
   },
   "outputs": [],
   "source": [
    "test_words = ['lottery', 'sale', 'meeting']\n",
    "test_results = {word: model.get(word) for word in test_words}"
   ]
  },
  {
   "cell_type": "code",
   "execution_count": 14,
   "id": "81bb72ec",
   "metadata": {
    "execution": {
     "iopub.execute_input": "2024-10-27T09:30:13.495036Z",
     "iopub.status.busy": "2024-10-27T09:30:13.494563Z",
     "iopub.status.idle": "2024-10-27T09:30:13.501855Z",
     "shell.execute_reply": "2024-10-27T09:30:13.500420Z"
    },
    "papermill": {
     "duration": 0.018487,
     "end_time": "2024-10-27T09:30:13.504319",
     "exception": false,
     "start_time": "2024-10-27T09:30:13.485832",
     "status": "completed"
    },
    "tags": []
   },
   "outputs": [
    {
     "data": {
      "text/plain": [
       "{'lottery': {'spam': 9, 'ham': 1},\n",
       " 'sale': {'spam': 39, 'ham': 42},\n",
       " 'meeting': {'spam': 11, 'ham': 808}}"
      ]
     },
     "execution_count": 14,
     "metadata": {},
     "output_type": "execute_result"
    }
   ],
   "source": [
    "test_results"
   ]
  },
  {
   "cell_type": "markdown",
   "id": "b5fece17",
   "metadata": {
    "papermill": {
     "duration": 0.007094,
     "end_time": "2024-10-27T09:30:13.519173",
     "exception": false,
     "start_time": "2024-10-27T09:30:13.512079",
     "status": "completed"
    },
    "tags": []
   },
   "source": [
    "## Step 5: Implementing the Prediction Function\n",
    "Finally, let's implement the function to predict whether an email is spam."
   ]
  },
  {
   "cell_type": "code",
   "execution_count": 15,
   "id": "e13b846a",
   "metadata": {
    "execution": {
     "iopub.execute_input": "2024-10-27T09:30:13.537618Z",
     "iopub.status.busy": "2024-10-27T09:30:13.536603Z",
     "iopub.status.idle": "2024-10-27T09:30:13.545151Z",
     "shell.execute_reply": "2024-10-27T09:30:13.544108Z"
    },
    "papermill": {
     "duration": 0.019737,
     "end_time": "2024-10-27T09:30:13.547463",
     "exception": false,
     "start_time": "2024-10-27T09:30:13.527726",
     "status": "completed"
    },
    "tags": []
   },
   "outputs": [],
   "source": [
    "def predict_naive_bayes(email_text, model, num_spam, num_ham):\n",
    "    \"\"\"\n",
    "    Predict whether an email is spam using Naive Bayes\n",
    "    \n",
    "    Parameters:\n",
    "        email_text (str): The text of the email to classify\n",
    "        model (dict): Trained Naive Bayes model\n",
    "        num_spam (int): Number of spam emails in training data\n",
    "        num_ham (int): Number of ham emails in training data\n",
    "    \n",
    "    Returns:\n",
    "        float: Probability that the email is spam\n",
    "    \"\"\"\n",
    "    # TODO: Implement the Naive Bayes prediction\n",
    "    # 1. Preprocess the email text\n",
    "    words = process_email(email_text)\n",
    "    # 2. Calculate probability using the Naive Bayes formula\n",
    "    p_spam = num_spam / (num_spam + num_ham)\n",
    "    p_ham = num_ham / (num_spam + num_ham)\n",
    "    \n",
    "\n",
    "    # Your code here\n",
    "\n",
    "    # HINT: Use the log of probabilities to avoid numerical underflow\n",
    "    log_prob_spam = np.log(p_spam)\n",
    "    log_prob_ham = np.log(p_ham)\n",
    "    # HINT: Remember to handle words not in the training data\n",
    "    for word in words:\n",
    "        if word in model:\n",
    "           \n",
    "            word_spam_count = model[word]['spam']\n",
    "            word_ham_count = model[word]['ham']\n",
    "        else:\n",
    "            \n",
    "            word_spam_count = 1\n",
    "            word_ham_count = 1\n",
    "        \n",
    "        \n",
    "        p_word_given_spam = word_spam_count / (num_spam + 2)\n",
    "        p_word_given_ham = word_ham_count / (num_ham + 2)\n",
    "        \n",
    "       \n",
    "        log_prob_spam += np.log(p_word_given_spam)\n",
    "        log_prob_ham += np.log(p_word_given_ham)\n",
    "    \n",
    "    prob_spam = np.exp(log_prob_spam) / (np.exp(log_prob_spam) + np.exp(log_prob_ham))\n",
    "    return prob_spam"
   ]
  },
  {
   "cell_type": "code",
   "execution_count": 16,
   "id": "8541a59c",
   "metadata": {
    "execution": {
     "iopub.execute_input": "2024-10-27T09:30:13.564218Z",
     "iopub.status.busy": "2024-10-27T09:30:13.563786Z",
     "iopub.status.idle": "2024-10-27T09:30:13.568799Z",
     "shell.execute_reply": "2024-10-27T09:30:13.567696Z"
    },
    "papermill": {
     "duration": 0.016174,
     "end_time": "2024-10-27T09:30:13.571083",
     "exception": false,
     "start_time": "2024-10-27T09:30:13.554909",
     "status": "completed"
    },
    "tags": []
   },
   "outputs": [],
   "source": [
    "num_ham = num_emails - num_spam"
   ]
  },
  {
   "cell_type": "code",
   "execution_count": 17,
   "id": "25f3515d",
   "metadata": {
    "execution": {
     "iopub.execute_input": "2024-10-27T09:30:13.587694Z",
     "iopub.status.busy": "2024-10-27T09:30:13.587294Z",
     "iopub.status.idle": "2024-10-27T09:30:13.592437Z",
     "shell.execute_reply": "2024-10-27T09:30:13.591257Z"
    },
    "papermill": {
     "duration": 0.016298,
     "end_time": "2024-10-27T09:30:13.594866",
     "exception": false,
     "start_time": "2024-10-27T09:30:13.578568",
     "status": "completed"
    },
    "tags": []
   },
   "outputs": [],
   "source": [
    "# Test your prediction function\n",
    "test_emails = [\n",
    "    \"lottery winner claim prize money\",\n",
    "    \"meeting tomorrow at 3pm\",\n",
    "    \"buy cheap watches online\"\n",
    "]"
   ]
  },
  {
   "cell_type": "code",
   "execution_count": 18,
   "id": "34e7650b",
   "metadata": {
    "execution": {
     "iopub.execute_input": "2024-10-27T09:30:13.611178Z",
     "iopub.status.busy": "2024-10-27T09:30:13.610784Z",
     "iopub.status.idle": "2024-10-27T09:30:13.618957Z",
     "shell.execute_reply": "2024-10-27T09:30:13.617639Z"
    },
    "papermill": {
     "duration": 0.019067,
     "end_time": "2024-10-27T09:30:13.621204",
     "exception": false,
     "start_time": "2024-10-27T09:30:13.602137",
     "status": "completed"
    },
    "tags": []
   },
   "outputs": [
    {
     "data": {
      "text/plain": [
       "{'lottery winner claim prize money': 0.9999332457087802,\n",
       " 'meeting tomorrow at 3pm': 0.004248841735740117,\n",
       " 'buy cheap watches online': 0.99796101009175}"
      ]
     },
     "execution_count": 18,
     "metadata": {},
     "output_type": "execute_result"
    }
   ],
   "source": [
    "test_predictions = {email: predict_naive_bayes(email, model, num_spam, num_ham) for email in test_emails}\n",
    "test_predictions"
   ]
  },
  {
   "cell_type": "markdown",
   "id": "e75a6bfb",
   "metadata": {
    "papermill": {
     "duration": 0.007294,
     "end_time": "2024-10-27T09:30:13.636044",
     "exception": false,
     "start_time": "2024-10-27T09:30:13.628750",
     "status": "completed"
    },
    "tags": []
   },
   "source": [
    "## Step 6: Wrap-up\n",
    "1. How well did your model perform?\n",
    "2. What challenges did you face while implementing it from scratch?\n",
    "3. What improvements would you suggest for the future?\n",
    "\n",
    "\n",
    "1. The model does really well considering its simplicity,\n",
    "2. Too much reliance on sklearn doesnt allow to understand the concept sometimes\n",
    "3. Removal of stop words, punctution might help the model\n"
   ]
  },
  {
   "cell_type": "markdown",
   "id": "d3bf2bc3",
   "metadata": {
    "papermill": {
     "duration": 0.006995,
     "end_time": "2024-10-27T09:30:13.650279",
     "exception": false,
     "start_time": "2024-10-27T09:30:13.643284",
     "status": "completed"
    },
    "tags": []
   },
   "source": [
    "### Notes (if any):"
   ]
  },
  {
   "cell_type": "markdown",
   "id": "090a0356",
   "metadata": {
    "papermill": {
     "duration": 0.007145,
     "end_time": "2024-10-27T09:30:13.664729",
     "exception": false,
     "start_time": "2024-10-27T09:30:13.657584",
     "status": "completed"
    },
    "tags": []
   },
   "source": [
    "For a Kaggle notebook, you can render mathematical equations correctly using LaTeX formatting within Markdown cells. You can place math expressions between `$...$` for inline math and `$$...$$` for block math. Here’s how you might structure your notebook content with properly formatted math:\n",
    "\n",
    "---\n",
    "\n",
    "### Bayes' Theorem\n",
    "\n",
    "Bayes' Theorem describes the probability of an event based on prior knowledge of conditions related to the event.\n",
    "\n",
    "$$\n",
    "P(A|B) = \\frac{P(B|A) \\cdot P(A)}{P(B)}\n",
    "$$\n",
    "\n",
    "where:\n",
    "- \\( P(A|B) \\): Posterior probability – the probability of event \\( A \\) occurring given that \\( B \\) is true.\n",
    "- \\( P(B|A) \\): Likelihood – the probability of event \\( B \\) occurring given that \\( A \\) is true.\n",
    "- \\( P(A) \\): Prior probability – the initial probability of event \\( A \\).\n",
    "- \\( P(B) \\): Marginal probability – the probability of event \\( B \\) occurring.\n",
    "\n",
    "---\n",
    "\n",
    "### Naive Assumption\n",
    "\n",
    "The \"naive\" part of Naive Bayes assumes that all features are independent of each other given the class label. In the context of text classification:\n",
    "- Each word in a document is treated as an independent feature.\n",
    "- We calculate the probability of a document belonging to a class (e.g., spam or ham) by combining the probabilities of each word.\n",
    "\n",
    "---\n",
    "\n",
    "### Naive Bayes Classifier\n",
    "\n",
    "Given a document \\( D \\) with words \\( w_1, w_2, \\dots, w_n \\), we calculate the probability of \\( D \\) being in class \\( C \\) (e.g., spam or ham) as:\n",
    "\n",
    "$$\n",
    "P(C|D) = \\frac{P(C) \\cdot \\prod_{i=1}^n P(w_i|C)}{P(D)}\n",
    "$$\n",
    "\n",
    "Since \\( P(D) \\) is the same for all classes, we can simplify this to:\n",
    "\n",
    "$$\n",
    "P(C|D) \\propto P(C) \\cdot \\prod_{i=1}^n P(w_i|C)\n",
    "$$\n",
    "\n",
    "#### Log Transformation\n",
    "To avoid computational issues with very small probabilities, we typically take the logarithm of the probabilities:\n",
    "\n",
    "$$\n",
    "\\log P(C|D) \\propto \\log P(C) + \\sum_{i=1}^n \\log P(w_i|C)\n",
    "$$\n",
    "\n",
    "---\n",
    "\n",
    "### Laplace Smoothing\n",
    "\n",
    "To handle words in the test set that do not appear in the training data, we apply **Laplace smoothing**. This technique adds a small constant (typically 1) to all word counts, ensuring that we never multiply by zero.\n",
    "\n",
    "The smoothed probability of a word \\( w \\) given class \\( C \\) is:\n",
    "\n",
    "$$\n",
    "P(w|C) = \\frac{\\text{count}(w, C) + 1}{\\text{total word count in } C + \\text{number of unique words}}\n",
    "$$\n",
    "\n",
    "\n",
    "---\n"
   ]
  },
  {
   "cell_type": "code",
   "execution_count": null,
   "id": "9642092d",
   "metadata": {
    "papermill": {
     "duration": 0.007001,
     "end_time": "2024-10-27T09:30:13.679036",
     "exception": false,
     "start_time": "2024-10-27T09:30:13.672035",
     "status": "completed"
    },
    "tags": []
   },
   "outputs": [],
   "source": []
  }
 ],
 "metadata": {
  "kaggle": {
   "accelerator": "none",
   "dataSources": [
    {
     "datasetId": 5956702,
     "sourceId": 9733313,
     "sourceType": "datasetVersion"
    }
   ],
   "dockerImageVersionId": 30786,
   "isGpuEnabled": false,
   "isInternetEnabled": true,
   "language": "python",
   "sourceType": "notebook"
  },
  "kernelspec": {
   "display_name": "Python 3",
   "language": "python",
   "name": "python3"
  },
  "language_info": {
   "codemirror_mode": {
    "name": "ipython",
    "version": 3
   },
   "file_extension": ".py",
   "mimetype": "text/x-python",
   "name": "python",
   "nbconvert_exporter": "python",
   "pygments_lexer": "ipython3",
   "version": "3.10.14"
  },
  "papermill": {
   "default_parameters": {},
   "duration": 6.855296,
   "end_time": "2024-10-27T09:30:14.206910",
   "environment_variables": {},
   "exception": null,
   "input_path": "__notebook__.ipynb",
   "output_path": "__notebook__.ipynb",
   "parameters": {},
   "start_time": "2024-10-27T09:30:07.351614",
   "version": "2.6.0"
  }
 },
 "nbformat": 4,
 "nbformat_minor": 5
}
